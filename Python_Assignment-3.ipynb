{
 "cells": [
  {
   "cell_type": "markdown",
   "id": "b3e019d7",
   "metadata": {},
   "source": [
    "1. Why are functions advantageous to have in your programs?"
   ]
  },
  {
   "cell_type": "code",
   "execution_count": null,
   "id": "ec63858c",
   "metadata": {},
   "outputs": [],
   "source": [
    "we can reuse the code with the help of function call ,It is easy to understand,it looks in a understandable way"
   ]
  },
  {
   "cell_type": "markdown",
   "id": "2818a8b1",
   "metadata": {},
   "source": [
    "2. When does the code in a function run: when it is specified or when it is called?"
   ]
  },
  {
   "cell_type": "code",
   "execution_count": null,
   "id": "a1ce049a",
   "metadata": {},
   "outputs": [],
   "source": [
    "when the function is called then only the function will execute or run\n",
    "defining a function does not immediately runs the code we have to give the parameters and body to the function after the callin of function only the function block will run"
   ]
  },
  {
   "cell_type": "markdown",
   "id": "f373cbbd",
   "metadata": {},
   "source": [
    "3. What statement creates a function?"
   ]
  },
  {
   "cell_type": "code",
   "execution_count": null,
   "id": "0ef7e594",
   "metadata": {},
   "outputs": [],
   "source": [
    "def if used to create a function"
   ]
  },
  {
   "cell_type": "markdown",
   "id": "21ad4bf1",
   "metadata": {},
   "source": [
    "4. What is the difference between a function and a function call?"
   ]
  },
  {
   "cell_type": "code",
   "execution_count": null,
   "id": "56a6bdc4",
   "metadata": {},
   "outputs": [],
   "source": [
    "function is a block of code which performs a specific task where as function call calls the function to execute"
   ]
  },
  {
   "cell_type": "markdown",
   "id": "17c549e3",
   "metadata": {},
   "source": [
    "5. How many global scopes are there in a Python program? How many local scopes?"
   ]
  },
  {
   "cell_type": "code",
   "execution_count": null,
   "id": "9ab6959a",
   "metadata": {},
   "outputs": [],
   "source": [
    "one global scope and multiple local scopes"
   ]
  },
  {
   "cell_type": "markdown",
   "id": "0ff3bce5",
   "metadata": {},
   "source": [
    "6. What happens to variables in a local scope when the function call returns?"
   ]
  },
  {
   "cell_type": "code",
   "execution_count": null,
   "id": "c744a355",
   "metadata": {},
   "outputs": [],
   "source": [
    "local scope of the function is destroyes after the function call returns"
   ]
  },
  {
   "cell_type": "markdown",
   "id": "9b2fa1c0",
   "metadata": {},
   "source": [
    "7. What is the concept of a return value? Is it possible to have a return value in an expression?"
   ]
  },
  {
   "cell_type": "code",
   "execution_count": null,
   "id": "7becd961",
   "metadata": {},
   "outputs": [],
   "source": [
    "The return concept refers to send back the value to the caller after completing its Execution"
   ]
  },
  {
   "cell_type": "markdown",
   "id": "a8ace224",
   "metadata": {},
   "source": [
    "8. If a function does not have a return statement, what is the return value of a call to that function?"
   ]
  },
  {
   "cell_type": "code",
   "execution_count": null,
   "id": "c3903c75",
   "metadata": {},
   "outputs": [],
   "source": [
    "None is the return value of a call to that function in cas eof function doesnot have a return statement"
   ]
  },
  {
   "cell_type": "markdown",
   "id": "4f50dca9",
   "metadata": {},
   "source": [
    "9. How do you make a function variable refer to the global variable?"
   ]
  },
  {
   "cell_type": "code",
   "execution_count": null,
   "id": "f6680278",
   "metadata": {},
   "outputs": [],
   "source": [
    "to declare a global variable we have a keyword called as global First of all we have to declare a global variable outside the function and we have to\n",
    "call that global variable into the function and the we can access it"
   ]
  },
  {
   "cell_type": "markdown",
   "id": "436fa989",
   "metadata": {},
   "source": [
    "10. What is the data type of None?"
   ]
  },
  {
   "cell_type": "code",
   "execution_count": null,
   "id": "772673d2",
   "metadata": {},
   "outputs": [],
   "source": [
    "Data Type of None is NoneType"
   ]
  },
  {
   "cell_type": "markdown",
   "id": "2ae4ce46",
   "metadata": {},
   "source": [
    "11. What does the sentence import areallyourpetsnamederic do?"
   ]
  },
  {
   "cell_type": "code",
   "execution_count": null,
   "id": "4a4e0968",
   "metadata": {},
   "outputs": [],
   "source": [
    "The above sentence doesnot have any meaning as import statement is used to import the modules and libraries of python if we run that statment mean\n",
    "we get ModuleNotFoundError"
   ]
  },
  {
   "cell_type": "markdown",
   "id": "e99b6664",
   "metadata": {},
   "source": [
    "12. If you had a bacon() feature in a spam module, what would you call it after importing spam?"
   ]
  },
  {
   "cell_type": "code",
   "execution_count": null,
   "id": "277be640",
   "metadata": {},
   "outputs": [],
   "source": [
    "import spam \n",
    "spam.bacon()"
   ]
  },
  {
   "cell_type": "markdown",
   "id": "ff659a5e",
   "metadata": {},
   "source": [
    "13. What can you do to save a programme from crashing if it encounters an error?"
   ]
  },
  {
   "cell_type": "code",
   "execution_count": null,
   "id": "6db76042",
   "metadata": {},
   "outputs": [],
   "source": [
    "we can use try except blocks to save from a program as well as we can write finally block to execute the block code without depending on try or except blocks"
   ]
  },
  {
   "cell_type": "markdown",
   "id": "8d96f13f",
   "metadata": {},
   "source": [
    "14. What is the purpose of the try clause? What is the purpose of the except clause?"
   ]
  },
  {
   "cell_type": "code",
   "execution_count": null,
   "id": "1dd8931c",
   "metadata": {},
   "outputs": [],
   "source": [
    "try:\n",
    "    it is used to to handle the exception the interpreter will try the try block if there any errors are ther the try block \n",
    "    gives the flow to except block\n",
    "except:\n",
    "    except block is used to execute when there is any exception raised in except block"
   ]
  }
 ],
 "metadata": {
  "kernelspec": {
   "display_name": "Python 3 (ipykernel)",
   "language": "python",
   "name": "python3"
  },
  "language_info": {
   "codemirror_mode": {
    "name": "ipython",
    "version": 3
   },
   "file_extension": ".py",
   "mimetype": "text/x-python",
   "name": "python",
   "nbconvert_exporter": "python",
   "pygments_lexer": "ipython3",
   "version": "3.10.9"
  }
 },
 "nbformat": 4,
 "nbformat_minor": 5
}
